{
 "cells": [
  {
   "cell_type": "markdown",
   "metadata": {},
   "source": [
    "# Analyse av data fra fagdagen\n",
    "\n",
    "Først, la oss definere funskjoner for gjennomsnitt og standardavvik. Disse er gitt ved:\n",
    "\n",
    "\\begin{equation*}\n",
    "\\bar{x} = \\frac{1}{n} \\sum_k a_k\n",
    "\\end{equation*}\n",
    "\n",
    "og\n",
    "\n",
    "\\begin{equation*}\n",
    "\\sigma = \\sqrt{\\frac{1}{n} \\sum_k (a_k - \\bar{x})^2}\n",
    "\\end{equation*}"
   ]
  },
  {
   "cell_type": "code",
   "execution_count": 1,
   "metadata": {},
   "outputs": [],
   "source": [
    "def average(my_list):\n",
    "  return sum(my_list) / len(my_list)\n",
    "\n",
    "def deviation(my_list):\n",
    "  avg = average(my_list)\n",
    "  deviation_list = [(value - avg)**2 for value in my_list]\n",
    "  return sqrt(average(deviation_list))"
   ]
  },
  {
   "cell_type": "markdown",
   "metadata": {},
   "source": [
    "Så, la oss plotte dataen, samt regne ut snitt, standardavvik og regresjon."
   ]
  },
  {
   "cell_type": "code",
   "execution_count": 9,
   "metadata": {},
   "outputs": [
    {
     "name": "stdout",
     "output_type": "stream",
     "text": [
      "average temp: 17.27°C\n",
      "temp std: 9.86°C\n",
      "Regresjonen\n",
      "           5             4             3            2\n",
      "9.756e-11 x - 9.663e-08 x + 3.485e-05 x - 0.005095 x + 0.1332 x + 31.03\n"
     ]
    },
    {
     "data": {
      "image/png": "[encoded data removed]",
      "text/plain": [
       "<Figure size 432x288 with 1 Axes>"
      ]
     },
     "metadata": {
      "needs_background": "light"
     },
     "output_type": "display_data"
    }
   ],
   "source": [
    "import csv\n",
    "from pylab import *\n",
    "import numpy\n",
    "\n",
    "time_key = 'Time (s) Run 2'\n",
    "temp_key = 'Temperature (Â°C) Run 2'\n",
    "\n",
    "dt = 0.5\n",
    "regression_to = 300\n",
    "\n",
    "with open('data.csv') as f:\n",
    "    reader = csv.DictReader(f)\n",
    "    dics = [dic for dic in reader]\n",
    "  \n",
    "    n = len(dics)\n",
    "    end_time = round(float(dics[-1][time_key]))\n",
    "\n",
    "    times = [float(dic[time_key]) for dic in dics]\n",
    "    temps = [float(dic[temp_key]) for dic in dics]\n",
    "\n",
    "    avg_temp = round(average(temps), 2)\n",
    "    std_temp = round(deviation(temps), 2)\n",
    "\n",
    "    to_index = round(regression_to / dt)\n",
    "    regression = numpy.poly1d(numpy.polyfit(times[:to_index], temps[:to_index], 5))\n",
    "\n",
    "    print(f'average temp: {avg_temp}°C')\n",
    "    print(f'temp std: {std_temp}°C')\n",
    "\n",
    "    print('Regresjonen')\n",
    "    print(regression)\n",
    "\n",
    "    regression_eval = numpy.linspace(1, regression_to, regression_to * 10)\n",
    "\n",
    "    plot(times, temps)\n",
    "    plot(times, [avg_temp for _ in dics])\n",
    "    plot(times, [avg_temp + std_temp for _ in dics])\n",
    "    plot(times, [avg_temp - std_temp for _ in dics])\n",
    "\n",
    "    plot(regression_eval, regression(regression_eval), linewidth=5)\n",
    "\n",
    "    xlabel('Time (s)')\n",
    "    ylabel('Temperature (°C)')\n",
    "    xticks(range(0, end_time, 50))\n",
    "    yticks(range(0, 50, 10))\n",
    "\n",
    "    show()"
   ]
  },
  {
   "cell_type": "markdown",
   "metadata": {},
   "source": [
    "Merk:\n",
    "- den oransje linjen sier hva gjennomsnittet var\n",
    "- den blå linjen (den originale dataen) holder seg stort sett mellom den grønne og den røde linjen, ettersom at disse representerer standardavvikene\n",
    "- den lilla linjen er en representasjon av regresjonen. Du ser at den passer godt til dataen siden den fullstendig blokkerer den.\n",
    "\n",
    "Dette forteller oss at gjennomsnittet temperaturen er 17.27\n",
    "Og at temperaturen varierte med ca. 9.86 fra gjennomsnittet\n",
    "\n",
    "Regresjonen forteller oss ingenting om hvor vi kommer til å legge termometeret i framtiden\n",
    "\n"
   ]
  },
  {
   "cell_type": "code",
   "execution_count": null,
   "metadata": {},
   "outputs": [],
   "source": []
  }
 ],
 "metadata": {
  "kernelspec": {
   "display_name": "Python 3",
   "language": "python",
   "name": "python3"
  },
  "language_info": {
   "codemirror_mode": {
    "name": "ipython",
    "version": 3
   },
   "file_extension": ".py",
   "mimetype": "text/x-python",
   "name": "python",
   "nbconvert_exporter": "python",
   "pygments_lexer": "ipython3",
   "version": "3.8.3"
  }
 },
 "nbformat": 4,
 "nbformat_minor": 4
}
